{
  "cells": [
    {
      "cell_type": "code",
      "execution_count": 7,
      "metadata": {
        "colab": {
          "base_uri": "https://localhost:8080/"
        },
        "id": "DRFtV5Ishm-a",
        "outputId": "2974454a-e79e-4493-f817-9cc87c569bcb"
      },
      "outputs": [
        {
          "ename": "ModuleNotFoundError",
          "evalue": "No module named 'google.colab'",
          "output_type": "error",
          "traceback": [
            "\u001b[1;31m---------------------------------------------------------------------------\u001b[0m",
            "\u001b[1;31mModuleNotFoundError\u001b[0m                       Traceback (most recent call last)",
            "Cell \u001b[1;32mIn[7], line 1\u001b[0m\n\u001b[1;32m----> 1\u001b[0m \u001b[39mfrom\u001b[39;00m \u001b[39mgoogle\u001b[39;00m\u001b[39m.\u001b[39;00m\u001b[39mcolab\u001b[39;00m \u001b[39mimport\u001b[39;00m drive\n\u001b[0;32m      2\u001b[0m drive\u001b[39m.\u001b[39mmount(\u001b[39m'\u001b[39m\u001b[39m/content/drive\u001b[39m\u001b[39m'\u001b[39m)\n",
            "\u001b[1;31mModuleNotFoundError\u001b[0m: No module named 'google.colab'"
          ]
        }
      ],
      "source": [
        "from google.colab import drive\n",
        "drive.mount('/content/drive')"
      ]
    },
    {
      "cell_type": "code",
      "execution_count": 4,
      "metadata": {
        "id": "U-0OOZOzqN2R"
      },
      "outputs": [
        {
          "ename": "ModuleNotFoundError",
          "evalue": "No module named 'imutils'",
          "output_type": "error",
          "traceback": [
            "\u001b[1;31m---------------------------------------------------------------------------\u001b[0m",
            "\u001b[1;31mModuleNotFoundError\u001b[0m                       Traceback (most recent call last)",
            "Cell \u001b[1;32mIn[4], line 16\u001b[0m\n\u001b[0;32m     14\u001b[0m \u001b[39mfrom\u001b[39;00m \u001b[39mtensorflow\u001b[39;00m\u001b[39m.\u001b[39;00m\u001b[39mkeras\u001b[39;00m\u001b[39m.\u001b[39;00m\u001b[39moptimizers\u001b[39;00m\u001b[39m.\u001b[39;00m\u001b[39mlegacy\u001b[39;00m \u001b[39mimport\u001b[39;00m Adam\n\u001b[0;32m     15\u001b[0m \u001b[39mfrom\u001b[39;00m \u001b[39mkeras\u001b[39;00m\u001b[39m.\u001b[39;00m\u001b[39mcallbacks\u001b[39;00m \u001b[39mimport\u001b[39;00m ReduceLROnPlateau\n\u001b[1;32m---> 16\u001b[0m \u001b[39mfrom\u001b[39;00m \u001b[39mimutils\u001b[39;00m \u001b[39mimport\u001b[39;00m paths\n\u001b[0;32m     17\u001b[0m \u001b[39mfrom\u001b[39;00m \u001b[39msklearn\u001b[39;00m\u001b[39m.\u001b[39;00m\u001b[39mmodel_selection\u001b[39;00m \u001b[39mimport\u001b[39;00m train_test_split\n\u001b[0;32m     18\u001b[0m \u001b[39mfrom\u001b[39;00m \u001b[39mkeras\u001b[39;00m\u001b[39m.\u001b[39;00m\u001b[39mcallbacks\u001b[39;00m \u001b[39mimport\u001b[39;00m ModelCheckpoint\n",
            "\u001b[1;31mModuleNotFoundError\u001b[0m: No module named 'imutils'"
          ]
        }
      ],
      "source": [
        "import os \n",
        "import cv2\n",
        "import numpy as np\n",
        "import keras\n",
        "import pandas as pd\n",
        "from tensorflow.keras.models import Model\n",
        "from tensorflow.keras.preprocessing.image import ImageDataGenerator\n",
        "from keras.datasets import mnist\n",
        "from keras.utils import np_utils\n",
        "from keras.models import Sequential, load_model\n",
        "from keras.layers import Dense, Activation, Conv2D, MaxPooling2D, Flatten, AveragePooling2D\n",
        "\n",
        "from tensorflow.keras.layers import Dropout\n",
        "from tensorflow.keras.optimizers.legacy import Adam\n",
        "from keras.callbacks import ReduceLROnPlateau\n",
        "from imutils import paths\n",
        "from sklearn.model_selection import train_test_split\n",
        "from keras.callbacks import ModelCheckpoint\n",
        "\n",
        "from keras.applications.mobilenet_v2 import MobileNetV2\n",
        "from keras.utils import to_categorical\n",
        "from tensorflow.keras.layers import Input\n",
        "from keras.applications.mobilenet_v2 import preprocess_input\n",
        "from tensorflow.keras.preprocessing.image import load_img\n",
        "from tensorflow.keras.preprocessing.image import img_to_array\n",
        "#from keras.applications.efficientnet import preprocess_input\n",
        "#from keras.applications.efficientnet import EfficientNetB7"
      ]
    },
    {
      "cell_type": "code",
      "execution_count": null,
      "metadata": {
        "id": "51sIEZ6UqOyY"
      },
      "outputs": [],
      "source": [
        "path = 'drive/MyDrive/train_plant'\n",
        "categories = os.listdir(path)\n",
        "categories=sorted(categories)\n",
        "labels = [i for i in range(len(categories))]\n",
        "label_dict = dict(zip(categories,labels))"
      ]
    },
    {
      "cell_type": "code",
      "execution_count": null,
      "metadata": {
        "colab": {
          "base_uri": "https://localhost:8080/"
        },
        "id": "4lIXW1FBqRgo",
        "outputId": "2030ae95-4301-4ea4-9b2e-58604ec91cbd"
      },
      "outputs": [
        {
          "name": "stdout",
          "output_type": "stream",
          "text": [
            "{'corn_common_rust_train': 0, 'corn_healthy_train': 1, 'corn_northern_leaf_blight_train': 2, 'tomato_early_blight_train': 3, 'tomato_healthy_train': 4, 'tomato_late_blight_train': 5}\n",
            "['corn_common_rust_train', 'corn_healthy_train', 'corn_northern_leaf_blight_train', 'tomato_early_blight_train', 'tomato_healthy_train', 'tomato_late_blight_train']\n",
            "[0, 1, 2, 3, 4, 5]\n"
          ]
        }
      ],
      "source": [
        "print(label_dict)\n",
        "print(categories)\n",
        "print(labels)"
      ]
    },
    {
      "cell_type": "code",
      "execution_count": null,
      "metadata": {
        "id": "RR85PlflqUxv"
      },
      "outputs": [],
      "source": [
        "data = []\n",
        "label = []"
      ]
    },
    {
      "cell_type": "code",
      "execution_count": null,
      "metadata": {
        "id": "1E5okC5xqXbP"
      },
      "outputs": [],
      "source": [
        "for c in categories:\n",
        "    folder_path = os.path.join(path,c)\n",
        "    image_names = os.listdir(folder_path)\n",
        "    for image_name in image_names:\n",
        "        img_path = os.path.join(folder_path,image_name)\n",
        "        #img = cv2.imread(img_path)\n",
        "        img=load_img(img_path, target_size=(224,224))\n",
        "        img=img_to_array(img)\n",
        "        img=preprocess_input(img)\n",
        "        data.append(img)\n",
        "        label.append(label_dict[c])"
      ]
    },
    {
      "cell_type": "code",
      "execution_count": null,
      "metadata": {
        "id": "4-mug_9Qqcdc"
      },
      "outputs": [],
      "source": [
        "from sklearn.model_selection import train_test_split\n",
        "x_train,x_test,y_train,y_test=train_test_split(data,label,test_size=0.3,random_state=42)\n",
        "y_train = to_categorical(y_train, 6)\n",
        "y_test = to_categorical(y_test, 6)\n",
        "x_train=np.array(x_train)\n",
        "x_test=np.array(x_test)"
      ]
    },
    {
      "cell_type": "code",
      "execution_count": null,
      "metadata": {
        "id": "DrEHobrEsE1L"
      },
      "outputs": [],
      "source": [
        "datagen=ImageDataGenerator(rotation_range=20, zoom_range=0.15, width_shift_range=0.2, height_shift_range=0.2,shear_range=0.15, horizontal_flip=True, fill_mode=\"nearest\")"
      ]
    },
    {
      "cell_type": "code",
      "execution_count": null,
      "metadata": {
        "colab": {
          "base_uri": "https://localhost:8080/"
        },
        "id": "r1j-DWU_q1qO",
        "outputId": "480baa79-3473-4253-f6b9-c40934e2a7c2"
      },
      "outputs": [
        {
          "name": "stderr",
          "output_type": "stream",
          "text": [
            "WARNING:tensorflow:`input_shape` is undefined or non-square, or `rows` is not in [96, 128, 160, 192, 224]. Weights for input shape (224, 224) will be loaded as the default.\n"
          ]
        },
        {
          "name": "stdout",
          "output_type": "stream",
          "text": [
            "Downloading data from https://storage.googleapis.com/tensorflow/keras-applications/mobilenet_v2/mobilenet_v2_weights_tf_dim_ordering_tf_kernels_1.0_224_no_top.h5\n",
            "9406464/9406464 [==============================] - 1s 0us/step\n"
          ]
        }
      ],
      "source": [
        "baseModel = MobileNetV2(weights=\"imagenet\", include_top=False,  input_tensor=Input(shape=(224, 224, 3))) \n",
        "\n",
        "#baseModel = EfficientNetB7(weights=\"imagenet\", include_top=False,  input_tensor=Input(shape=(224, 224, 3))) \n",
        "headModel = baseModel.output\n",
        "headModel = AveragePooling2D(pool_size=(7, 7))(headModel)\n",
        "headModel = Flatten(name=\"flatten\")(headModel)\n",
        "headModel = Dense(128, activation=\"relu\")(headModel)\n",
        "headModel = Dropout(0.5)(headModel)\n",
        "headModel = Dense(6, activation=\"softmax\")(headModel)\n",
        "\n",
        "\n",
        "model = Model(inputs=baseModel.input, outputs=headModel)\n",
        "\n",
        "\n",
        "for layer in baseModel.layers:  \n",
        "    layer.trainable = False\n",
        "\n",
        "#opt = Adam(lr=INIT_LR, decay=INIT_LR / EPOCHS)\n",
        "model.compile(loss=\"categorical_crossentropy\", optimizer='adam',metrics=[\"accuracy\"])"
      ]
    },
    {
      "cell_type": "code",
      "execution_count": null,
      "metadata": {
        "colab": {
          "base_uri": "https://localhost:8080/"
        },
        "id": "D_70DDCvryLL",
        "outputId": "5e51a0b4-d653-4731-c89f-2d088cc1dee2"
      },
      "outputs": [
        {
          "name": "stdout",
          "output_type": "stream",
          "text": [
            "Epoch 1/50\n",
            "78/78 [==============================] - ETA: 0s - loss: 0.5614 - accuracy: 0.7866"
          ]
        },
        {
          "name": "stderr",
          "output_type": "stream",
          "text": [
            "WARNING:absl:Found untraced functions such as _jit_compiled_convolution_op, _jit_compiled_convolution_op, _jit_compiled_convolution_op, _jit_compiled_convolution_op, _jit_compiled_convolution_op while saving (showing 5 of 52). These functions will not be directly callable after loading.\n"
          ]
        },
        {
          "name": "stdout",
          "output_type": "stream",
          "text": [
            "78/78 [==============================] - 63s 659ms/step - loss: 0.5614 - accuracy: 0.7866 - val_loss: 0.1777 - val_accuracy: 0.9333\n",
            "Epoch 2/50\n",
            "78/78 [==============================] - ETA: 0s - loss: 0.2490 - accuracy: 0.9031"
          ]
        },
        {
          "name": "stderr",
          "output_type": "stream",
          "text": [
            "WARNING:absl:Found untraced functions such as _jit_compiled_convolution_op, _jit_compiled_convolution_op, _jit_compiled_convolution_op, _jit_compiled_convolution_op, _jit_compiled_convolution_op while saving (showing 5 of 52). These functions will not be directly callable after loading.\n"
          ]
        },
        {
          "name": "stdout",
          "output_type": "stream",
          "text": [
            "78/78 [==============================] - 49s 633ms/step - loss: 0.2490 - accuracy: 0.9031 - val_loss: 0.1507 - val_accuracy: 0.9426\n",
            "Epoch 3/50\n",
            "78/78 [==============================] - ETA: 0s - loss: 0.1731 - accuracy: 0.9301"
          ]
        },
        {
          "name": "stderr",
          "output_type": "stream",
          "text": [
            "WARNING:absl:Found untraced functions such as _jit_compiled_convolution_op, _jit_compiled_convolution_op, _jit_compiled_convolution_op, _jit_compiled_convolution_op, _jit_compiled_convolution_op while saving (showing 5 of 52). These functions will not be directly callable after loading.\n"
          ]
        },
        {
          "name": "stdout",
          "output_type": "stream",
          "text": [
            "78/78 [==============================] - 50s 645ms/step - loss: 0.1731 - accuracy: 0.9301 - val_loss: 0.1218 - val_accuracy: 0.9565\n",
            "Epoch 4/50\n",
            "78/78 [==============================] - ETA: 0s - loss: 0.1434 - accuracy: 0.9469"
          ]
        },
        {
          "name": "stderr",
          "output_type": "stream",
          "text": [
            "WARNING:absl:Found untraced functions such as _jit_compiled_convolution_op, _jit_compiled_convolution_op, _jit_compiled_convolution_op, _jit_compiled_convolution_op, _jit_compiled_convolution_op while saving (showing 5 of 52). These functions will not be directly callable after loading.\n"
          ]
        },
        {
          "name": "stdout",
          "output_type": "stream",
          "text": [
            "78/78 [==============================] - 50s 636ms/step - loss: 0.1434 - accuracy: 0.9469 - val_loss: 0.1198 - val_accuracy: 0.9546\n",
            "Epoch 5/50\n",
            "78/78 [==============================] - ETA: 0s - loss: 0.1289 - accuracy: 0.9514"
          ]
        },
        {
          "name": "stderr",
          "output_type": "stream",
          "text": [
            "WARNING:absl:Found untraced functions such as _jit_compiled_convolution_op, _jit_compiled_convolution_op, _jit_compiled_convolution_op, _jit_compiled_convolution_op, _jit_compiled_convolution_op while saving (showing 5 of 52). These functions will not be directly callable after loading.\n"
          ]
        },
        {
          "name": "stdout",
          "output_type": "stream",
          "text": [
            "78/78 [==============================] - 48s 621ms/step - loss: 0.1289 - accuracy: 0.9514 - val_loss: 0.1186 - val_accuracy: 0.9556\n",
            "Epoch 6/50\n",
            "78/78 [==============================] - ETA: 0s - loss: 0.1327 - accuracy: 0.9538"
          ]
        },
        {
          "name": "stderr",
          "output_type": "stream",
          "text": [
            "WARNING:absl:Found untraced functions such as _jit_compiled_convolution_op, _jit_compiled_convolution_op, _jit_compiled_convolution_op, _jit_compiled_convolution_op, _jit_compiled_convolution_op while saving (showing 5 of 52). These functions will not be directly callable after loading.\n"
          ]
        },
        {
          "name": "stdout",
          "output_type": "stream",
          "text": [
            "78/78 [==============================] - 50s 637ms/step - loss: 0.1327 - accuracy: 0.9538 - val_loss: 0.1082 - val_accuracy: 0.9639\n",
            "Epoch 7/50\n",
            "78/78 [==============================] - 30s 390ms/step - loss: 0.1135 - accuracy: 0.9550 - val_loss: 0.1219 - val_accuracy: 0.9481\n",
            "Epoch 8/50\n",
            "78/78 [==============================] - ETA: 0s - loss: 0.1178 - accuracy: 0.9558"
          ]
        },
        {
          "name": "stderr",
          "output_type": "stream",
          "text": [
            "WARNING:absl:Found untraced functions such as _jit_compiled_convolution_op, _jit_compiled_convolution_op, _jit_compiled_convolution_op, _jit_compiled_convolution_op, _jit_compiled_convolution_op while saving (showing 5 of 52). These functions will not be directly callable after loading.\n"
          ]
        },
        {
          "name": "stdout",
          "output_type": "stream",
          "text": [
            "78/78 [==============================] - 50s 646ms/step - loss: 0.1178 - accuracy: 0.9558 - val_loss: 0.0983 - val_accuracy: 0.9620\n",
            "Epoch 9/50\n",
            "78/78 [==============================] - 31s 392ms/step - loss: 0.1098 - accuracy: 0.9570 - val_loss: 0.1169 - val_accuracy: 0.9620\n",
            "Epoch 10/50\n",
            "78/78 [==============================] - 31s 391ms/step - loss: 0.1178 - accuracy: 0.9618 - val_loss: 0.1057 - val_accuracy: 0.9639\n",
            "Epoch 11/50\n",
            "78/78 [==============================] - 31s 397ms/step - loss: 0.0967 - accuracy: 0.9634 - val_loss: 0.0996 - val_accuracy: 0.9620\n",
            "Epoch 12/50\n",
            "78/78 [==============================] - ETA: 0s - loss: 0.0813 - accuracy: 0.9674"
          ]
        },
        {
          "name": "stderr",
          "output_type": "stream",
          "text": [
            "WARNING:absl:Found untraced functions such as _jit_compiled_convolution_op, _jit_compiled_convolution_op, _jit_compiled_convolution_op, _jit_compiled_convolution_op, _jit_compiled_convolution_op while saving (showing 5 of 52). These functions will not be directly callable after loading.\n"
          ]
        },
        {
          "name": "stdout",
          "output_type": "stream",
          "text": [
            "78/78 [==============================] - 49s 637ms/step - loss: 0.0813 - accuracy: 0.9674 - val_loss: 0.0905 - val_accuracy: 0.9731\n",
            "Epoch 13/50\n",
            "78/78 [==============================] - ETA: 0s - loss: 0.0904 - accuracy: 0.9715"
          ]
        },
        {
          "name": "stderr",
          "output_type": "stream",
          "text": [
            "WARNING:absl:Found untraced functions such as _jit_compiled_convolution_op, _jit_compiled_convolution_op, _jit_compiled_convolution_op, _jit_compiled_convolution_op, _jit_compiled_convolution_op while saving (showing 5 of 52). These functions will not be directly callable after loading.\n"
          ]
        },
        {
          "name": "stdout",
          "output_type": "stream",
          "text": [
            "78/78 [==============================] - 51s 652ms/step - loss: 0.0904 - accuracy: 0.9715 - val_loss: 0.0881 - val_accuracy: 0.9694\n",
            "Epoch 14/50\n",
            "78/78 [==============================] - 33s 418ms/step - loss: 0.0863 - accuracy: 0.9686 - val_loss: 0.1375 - val_accuracy: 0.9491\n",
            "Epoch 15/50\n",
            "78/78 [==============================] - 32s 414ms/step - loss: 0.0959 - accuracy: 0.9670 - val_loss: 0.1011 - val_accuracy: 0.9657\n",
            "Epoch 16/50\n",
            "78/78 [==============================] - 31s 400ms/step - loss: 0.0828 - accuracy: 0.9707 - val_loss: 0.0893 - val_accuracy: 0.9694\n",
            "Epoch 17/50\n",
            "78/78 [==============================] - 31s 401ms/step - loss: 0.0866 - accuracy: 0.9686 - val_loss: 0.1072 - val_accuracy: 0.9630\n",
            "Epoch 18/50\n",
            "78/78 [==============================] - 31s 400ms/step - loss: 0.0824 - accuracy: 0.9707 - val_loss: 0.1102 - val_accuracy: 0.9630\n",
            "Epoch 19/50\n",
            "78/78 [==============================] - 32s 417ms/step - loss: 0.0717 - accuracy: 0.9728 - val_loss: 0.1021 - val_accuracy: 0.9620\n",
            "Epoch 20/50\n",
            "78/78 [==============================] - 35s 455ms/step - loss: 0.0720 - accuracy: 0.9715 - val_loss: 0.1223 - val_accuracy: 0.9620\n",
            "Epoch 21/50\n",
            "78/78 [==============================] - 31s 395ms/step - loss: 0.0709 - accuracy: 0.9727 - val_loss: 0.0936 - val_accuracy: 0.9694\n",
            "Epoch 22/50\n",
            "78/78 [==============================] - 32s 408ms/step - loss: 0.0864 - accuracy: 0.9670 - val_loss: 0.0943 - val_accuracy: 0.9685\n",
            "Epoch 23/50\n",
            "78/78 [==============================] - 30s 390ms/step - loss: 0.0757 - accuracy: 0.9715 - val_loss: 0.1009 - val_accuracy: 0.9657\n",
            "Epoch 24/50\n",
            "78/78 [==============================] - 31s 399ms/step - loss: 0.0816 - accuracy: 0.9703 - val_loss: 0.1684 - val_accuracy: 0.9380\n",
            "Epoch 25/50\n",
            "78/78 [==============================] - 31s 403ms/step - loss: 0.0655 - accuracy: 0.9735 - val_loss: 0.1082 - val_accuracy: 0.9667\n",
            "Epoch 26/50\n",
            "78/78 [==============================] - 31s 403ms/step - loss: 0.0718 - accuracy: 0.9759 - val_loss: 0.1019 - val_accuracy: 0.9620\n",
            "Epoch 27/50\n",
            "78/78 [==============================] - 33s 420ms/step - loss: 0.0654 - accuracy: 0.9775 - val_loss: 0.1544 - val_accuracy: 0.9556\n",
            "Epoch 28/50\n",
            "78/78 [==============================] - 32s 411ms/step - loss: 0.0700 - accuracy: 0.9763 - val_loss: 0.1179 - val_accuracy: 0.9583\n",
            "Epoch 29/50\n",
            "78/78 [==============================] - 32s 405ms/step - loss: 0.0718 - accuracy: 0.9739 - val_loss: 0.1165 - val_accuracy: 0.9648\n",
            "Epoch 30/50\n",
            "78/78 [==============================] - 30s 389ms/step - loss: 0.0599 - accuracy: 0.9803 - val_loss: 0.1279 - val_accuracy: 0.9583\n",
            "Epoch 31/50\n",
            "78/78 [==============================] - 33s 420ms/step - loss: 0.0604 - accuracy: 0.9787 - val_loss: 0.1043 - val_accuracy: 0.9694\n",
            "Epoch 32/50\n",
            "78/78 [==============================] - 33s 417ms/step - loss: 0.0653 - accuracy: 0.9747 - val_loss: 0.0966 - val_accuracy: 0.9713\n",
            "Epoch 33/50\n",
            "78/78 [==============================] - 32s 410ms/step - loss: 0.0506 - accuracy: 0.9823 - val_loss: 0.0968 - val_accuracy: 0.9722\n",
            "Epoch 34/50\n",
            "78/78 [==============================] - 30s 388ms/step - loss: 0.0635 - accuracy: 0.9755 - val_loss: 0.0992 - val_accuracy: 0.9676\n",
            "Epoch 35/50\n",
            "78/78 [==============================] - 30s 389ms/step - loss: 0.0575 - accuracy: 0.9775 - val_loss: 0.0988 - val_accuracy: 0.9685\n",
            "Epoch 36/50\n",
            "78/78 [==============================] - 33s 422ms/step - loss: 0.0452 - accuracy: 0.9823 - val_loss: 0.1110 - val_accuracy: 0.9657\n",
            "Epoch 37/50\n",
            "78/78 [==============================] - 31s 403ms/step - loss: 0.0556 - accuracy: 0.9811 - val_loss: 0.1016 - val_accuracy: 0.9667\n",
            "Epoch 38/50\n",
            "78/78 [==============================] - 30s 387ms/step - loss: 0.0445 - accuracy: 0.9847 - val_loss: 0.1119 - val_accuracy: 0.9648\n",
            "Epoch 39/50\n",
            "78/78 [==============================] - 32s 408ms/step - loss: 0.0619 - accuracy: 0.9783 - val_loss: 0.1092 - val_accuracy: 0.9648\n",
            "Epoch 40/50\n",
            "78/78 [==============================] - 32s 410ms/step - loss: 0.0520 - accuracy: 0.9835 - val_loss: 0.0994 - val_accuracy: 0.9694\n",
            "Epoch 41/50\n",
            "78/78 [==============================] - 30s 384ms/step - loss: 0.0670 - accuracy: 0.9759 - val_loss: 0.0975 - val_accuracy: 0.9713\n",
            "Epoch 42/50\n",
            "78/78 [==============================] - 30s 382ms/step - loss: 0.0523 - accuracy: 0.9779 - val_loss: 0.1049 - val_accuracy: 0.9722\n",
            "Epoch 43/50\n",
            "78/78 [==============================] - 30s 379ms/step - loss: 0.0523 - accuracy: 0.9763 - val_loss: 0.1296 - val_accuracy: 0.9583\n",
            "Epoch 44/50\n",
            "78/78 [==============================] - 32s 407ms/step - loss: 0.0640 - accuracy: 0.9779 - val_loss: 0.1155 - val_accuracy: 0.9648\n",
            "Epoch 45/50\n",
            "78/78 [==============================] - 30s 386ms/step - loss: 0.0554 - accuracy: 0.9803 - val_loss: 0.1180 - val_accuracy: 0.9648\n",
            "Epoch 46/50\n",
            "78/78 [==============================] - 29s 377ms/step - loss: 0.0473 - accuracy: 0.9827 - val_loss: 0.1284 - val_accuracy: 0.9630\n",
            "Epoch 47/50\n",
            "78/78 [==============================] - 31s 401ms/step - loss: 0.0488 - accuracy: 0.9807 - val_loss: 0.1453 - val_accuracy: 0.9593\n",
            "Epoch 48/50\n",
            "78/78 [==============================] - 31s 399ms/step - loss: 0.0584 - accuracy: 0.9767 - val_loss: 0.1187 - val_accuracy: 0.9620\n",
            "Epoch 49/50\n",
            "78/78 [==============================] - 31s 392ms/step - loss: 0.0563 - accuracy: 0.9791 - val_loss: 0.1010 - val_accuracy: 0.9722\n",
            "Epoch 50/50\n",
            "78/78 [==============================] - 30s 386ms/step - loss: 0.0513 - accuracy: 0.9835 - val_loss: 0.1074 - val_accuracy: 0.9657\n"
          ]
        }
      ],
      "source": [
        "\n",
        "checkpoint = ModelCheckpoint('model-{epoch:03d}.model',monitor='val_loss',verbose=0,save_best_only=True,mode='min')\n",
        "#history=model.fit(train_data,train_target,epochs=20,callbacks=[checkpoint],validation_split=0.2)\n",
        "history=model.fit(datagen.flow(x_train, y_train, batch_size=32),callbacks=[checkpoint],  steps_per_epoch=len(x_train) // 32,  validation_data=(x_test, y_test), validation_steps=len(x_test) // 32,  epochs=50)"
      ]
    },
    {
      "cell_type": "code",
      "execution_count": null,
      "metadata": {
        "colab": {
          "base_uri": "https://localhost:8080/",
          "height": 223
        },
        "id": "4vdyqD1b8A1I",
        "outputId": "950605f5-7cb9-4181-b00b-f78c9ce047ff"
      },
      "outputs": [
        {
          "data": {
            "image/png": "[encoded data removed]",
            "text/plain": [
              "<Figure size 640x480 with 1 Axes>"
            ]
          },
          "metadata": {},
          "output_type": "display_data"
        }
      ],
      "source": [
        "from matplotlib import pyplot as plt\n",
        "\n",
        "plt.plot(history.history['loss'],'r',label='training loss')\n",
        "plt.plot(history.history['val_loss'],label='validation loss')\n",
        "plt.xlabel('# epochs')\n",
        "plt.ylabel('loss')\n",
        "plt.legend()\n",
        "plt.show()"
      ]
    },
    {
      "cell_type": "code",
      "execution_count": null,
      "metadata": {
        "colab": {
          "base_uri": "https://localhost:8080/",
          "height": 217
        },
        "id": "8i7dHUMA8KlF",
        "outputId": "65e0ead3-b6e6-4ad5-bece-99c39488305c"
      },
      "outputs": [
        {
          "data": {
            "image/png": "[encoded data removed]",
            "text/plain": [
              "<Figure size 640x480 with 1 Axes>"
            ]
          },
          "metadata": {},
          "output_type": "display_data"
        }
      ],
      "source": [
        "plt.plot(history.history['accuracy'],'r',label='training accuracy')\n",
        "plt.plot(history.history['val_accuracy'],label='validation accuracy')\n",
        "plt.xlabel('# epochs')\n",
        "plt.ylabel('loss')\n",
        "plt.legend()\n",
        "plt.show()"
      ]
    },
    {
      "cell_type": "code",
      "execution_count": null,
      "metadata": {
        "id": "wJSOxoB9dpfm"
      },
      "outputs": [],
      "source": [
        "model.save(\"mobilenetv2_plant.h5\")"
      ]
    },
    {
      "cell_type": "code",
      "execution_count": null,
      "metadata": {
        "id": "yI9qLfzqeUcP"
      },
      "outputs": [],
      "source": []
    }
  ],
  "metadata": {
    "accelerator": "GPU",
    "colab": {
      "gpuType": "T4",
      "provenance": []
    },
    "gpuClass": "standard",
    "kernelspec": {
      "display_name": "Python 3",
      "name": "python3"
    },
    "language_info": {
      "codemirror_mode": {
        "name": "ipython",
        "version": 3
      },
      "file_extension": ".py",
      "mimetype": "text/x-python",
      "name": "python",
      "nbconvert_exporter": "python",
      "pygments_lexer": "ipython3",
      "version": "3.10.11"
    }
  },
  "nbformat": 4,
  "nbformat_minor": 0
}
