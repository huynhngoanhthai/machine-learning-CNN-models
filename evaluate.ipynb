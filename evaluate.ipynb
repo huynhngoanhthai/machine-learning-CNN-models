{
  "cells": [
    {
      "cell_type": "code",
      "execution_count": 7,
      "metadata": {
        "colab": {
          "base_uri": "https://localhost:8080/"
        },
        "id": "Uf2I_W4sXjhR",
        "outputId": "009e9bd4-8060-4f2e-8f0f-d35ea97d1c22"
      },
      "outputs": [
        {
          "ename": "ModuleNotFoundError",
          "evalue": "No module named 'google.colab'",
          "output_type": "error",
          "traceback": [
            "\u001b[1;31m---------------------------------------------------------------------------\u001b[0m",
            "\u001b[1;31mModuleNotFoundError\u001b[0m                       Traceback (most recent call last)",
            "Cell \u001b[1;32mIn[7], line 1\u001b[0m\n\u001b[1;32m----> 1\u001b[0m \u001b[39mfrom\u001b[39;00m \u001b[39mgoogle\u001b[39;00m\u001b[39m.\u001b[39;00m\u001b[39mcolab\u001b[39;00m \u001b[39mimport\u001b[39;00m drive\n\u001b[0;32m      2\u001b[0m drive\u001b[39m.\u001b[39mmount(\u001b[39m'\u001b[39m\u001b[39m/content/drive\u001b[39m\u001b[39m'\u001b[39m)\n",
            "\u001b[1;31mModuleNotFoundError\u001b[0m: No module named 'google.colab'"
          ]
        }
      ],
      "source": [
        "from google.colab import drive\n",
        "drive.mount('/content/drive')"
      ]
    },
    {
      "cell_type": "markdown",
      "metadata": {},
      "source": []
    },
    {
      "cell_type": "code",
      "execution_count": 2,
      "metadata": {
        "id": "1Ie9A5plYQ5l"
      },
      "outputs": [],
      "source": [
        "import os \n",
        "import cv2\n",
        "import numpy as np\n",
        "import keras\n",
        "import pandas as pd\n",
        "from tensorflow.keras.models import Model\n",
        "from tensorflow.keras.preprocessing.image import ImageDataGenerator\n",
        "from keras.datasets import mnist\n",
        "from keras.utils import np_utils\n",
        "from keras.models import Sequential, load_model\n",
        "from keras.layers import Dense, Activation, Conv2D, MaxPooling2D, Flatten, AveragePooling2D\n",
        "\n",
        "from tensorflow.keras.layers import Dropout\n",
        "from tensorflow.keras.optimizers.legacy import Adam\n",
        "from keras.callbacks import ReduceLROnPlateau\n",
        "from imutils import paths\n",
        "from sklearn.model_selection import train_test_split\n",
        "from keras.callbacks import ModelCheckpoint\n",
        "\n",
        "from keras.applications.mobilenet_v2 import MobileNetV2\n",
        "from keras.utils import to_categorical\n",
        "from tensorflow.keras.layers import Input\n",
        "from keras.applications.mobilenet_v2 import preprocess_input\n",
        "from tensorflow.keras.preprocessing.image import load_img\n",
        "from tensorflow.keras.preprocessing.image import img_to_array\n",
        "#from keras.applications.efficientnet import preprocess_input\n",
        "#from keras.applications.efficientnet import EfficientNetB7"
      ]
    },
    {
      "cell_type": "code",
      "execution_count": 3,
      "metadata": {
        "id": "Ur3fwLFyYVIr"
      },
      "outputs": [],
      "source": [
        "path = 'drive/MyDrive/test_plant'\n",
        "categories = os.listdir(path)\n",
        "categories=sorted(categories)\n",
        "labels = [i for i in range(len(categories))]\n",
        "label_dict = dict(zip(categories,labels))"
      ]
    },
    {
      "cell_type": "code",
      "execution_count": 4,
      "metadata": {
        "colab": {
          "base_uri": "https://localhost:8080/"
        },
        "id": "5FN8CAXdYZu7",
        "outputId": "2fc23530-b60a-41b1-aa80-910cd8edf418"
      },
      "outputs": [
        {
          "name": "stdout",
          "output_type": "stream",
          "text": [
            "{'corn_common_rust_test': 0, 'corn_healthy_test': 1, 'corn_northern_leaf_blight_test': 2, 'tomato_early_blight_test': 3, 'tomato_healthy_test': 4, 'tomato_late_blight_test': 5}\n",
            "['corn_common_rust_test', 'corn_healthy_test', 'corn_northern_leaf_blight_test', 'tomato_early_blight_test', 'tomato_healthy_test', 'tomato_late_blight_test']\n",
            "[0, 1, 2, 3, 4, 5]\n"
          ]
        }
      ],
      "source": [
        "print(label_dict)\n",
        "print(categories)\n",
        "print(labels)"
      ]
    },
    {
      "cell_type": "code",
      "execution_count": 5,
      "metadata": {
        "id": "ZfoxMri5Yd_s"
      },
      "outputs": [],
      "source": [
        "data = []\n",
        "label = []\n",
        "\n",
        "for c in categories:\n",
        "    folder_path = os.path.join(path,c)\n",
        "    image_names = os.listdir(folder_path)\n",
        "    for image_name in image_names:\n",
        "        img_path = os.path.join(folder_path,image_name)\n",
        "        #img = cv2.imread(img_path)\n",
        "        img=load_img(img_path, target_size=(224,224))\n",
        "        img=img_to_array(img)\n",
        "        img=preprocess_input(img)\n",
        "        data.append(img)\n",
        "        label.append(label_dict[c])"
      ]
    },
    {
      "cell_type": "code",
      "execution_count": 6,
      "metadata": {
        "id": "5eguLTFjYnsE"
      },
      "outputs": [],
      "source": [
        "data=np.array(data)\n",
        "label=np.array(label)\n",
        "\n",
        "label = to_categorical(label, 6)"
      ]
    },
    {
      "cell_type": "code",
      "execution_count": 7,
      "metadata": {
        "id": "SA1belW7Yrw7"
      },
      "outputs": [],
      "source": [
        "model=load_model(\"drive/MyDrive/mobilenetv2_plant.h5\")"
      ]
    },
    {
      "cell_type": "code",
      "execution_count": 8,
      "metadata": {
        "colab": {
          "base_uri": "https://localhost:8080/"
        },
        "id": "Q8ITx4J0Yxvd",
        "outputId": "8a498493-459d-4762-b618-89550d30c048"
      },
      "outputs": [
        {
          "name": "stdout",
          "output_type": "stream",
          "text": [
            "38/38 [==============================] - 48s 1s/step - loss: 0.0545 - accuracy: 0.9833\n",
            "score:  [0.05449431762099266, 0.9833333492279053]\n"
          ]
        }
      ],
      "source": [
        "score = model.evaluate(data, label, batch_size=32)\n",
        "print('score: ',score)"
      ]
    }
  ],
  "metadata": {
    "colab": {
      "provenance": []
    },
    "kernelspec": {
      "display_name": "Python 3",
      "name": "python3"
    },
    "language_info": {
      "codemirror_mode": {
        "name": "ipython",
        "version": 3
      },
      "file_extension": ".py",
      "mimetype": "text/x-python",
      "name": "python",
      "nbconvert_exporter": "python",
      "pygments_lexer": "ipython3",
      "version": "3.10.11"
    }
  },
  "nbformat": 4,
  "nbformat_minor": 0
}
